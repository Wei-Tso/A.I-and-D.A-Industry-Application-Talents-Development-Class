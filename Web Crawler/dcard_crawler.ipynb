{
 "cells": [
  {
   "cell_type": "code",
   "execution_count": 2,
   "metadata": {},
   "outputs": [],
   "source": [
    "import requests\n",
    "from bs4 import BeautifulSoup\n",
    "import time"
   ]
  },
  {
   "cell_type": "code",
   "execution_count": 3,
   "metadata": {},
   "outputs": [],
   "source": [
    "url = \"https://www.dcard.tw/f\"\n",
    "headers = {'user-agent': 'Mozilla/5.0 (Windows NT 10.0; Win64; x64)'\n",
    "            'AppleWebKit/537.36 (KHTML, like Gecko)'\n",
    "            'Chrome/63.0.3239.132 Safari/537.36'}\n",
    "r = requests.get(url , headers = headers , cookies = {\"over18\": \"1\"})\n",
    "r.encoding = \"utf8\"\n",
    "soup = BeautifulSoup(r.text , \"lxml\")"
   ]
  },
  {
   "cell_type": "markdown",
   "metadata": {},
   "source": [
    "# Step 1"
   ]
  },
  {
   "cell_type": "markdown",
   "metadata": {},
   "source": [
    "---"
   ]
  },
  {
   "cell_type": "markdown",
   "metadata": {},
   "source": [
    "<img src = \"imgs/title.png\">"
   ]
  },
  {
   "cell_type": "markdown",
   "metadata": {},
   "source": [
    "### 可以看到每一篇文章的標題都在 a 標籤下，class 為 sc-1v1d5rx-3 kPUUNB"
   ]
  },
  {
   "cell_type": "markdown",
   "metadata": {},
   "source": [
    "### 因此我們把所有標題的 a 標籤放進 tag_divs"
   ]
  },
  {
   "cell_type": "code",
   "execution_count": 4,
   "metadata": {},
   "outputs": [
    {
     "name": "stdout",
     "output_type": "stream",
     "text": [
      "[<a class=\"sc-1v1d5rx-3 kPUUNB\" href=\"/f/girl/p/234136773\"><span>喜餅都訂了結果要退婚?</span></a>, <a class=\"sc-1v1d5rx-3 kPUUNB\" href=\"/f/funny/p/234134701\"><span>撞臉徐佳瑩（更</span></a>, <a class=\"sc-1v1d5rx-3 kPUUNB\" href=\"/f/entertainer/p/234135394\"><span>小煜結婚了😭</span></a>, <a class=\"sc-1v1d5rx-3 kPUUNB\" href=\"/f/relationship/p/234133071\"><span>男友拍照技術的進步</span></a>, <a class=\"sc-1v1d5rx-3 kPUUNB\" href=\"/f/funny/p/234133238\"><span>真的不要再亂剪瀏海</span></a>, <a class=\"sc-1v1d5rx-3 kPUUNB\" href=\"/f/trending/p/234135375\"><span>幹你娘三倍券</span></a>, <a class=\"sc-1v1d5rx-3 kPUUNB\" href=\"/f/relationship/p/234133635\"><span>十年男友教妳們怎麼訓練男友拍照</span></a>, <a class=\"sc-1v1d5rx-3 kPUUNB\" href=\"/f/mood/p/234135961\"><span>關於女友三觀不正</span></a>, <a class=\"sc-1v1d5rx-3 kPUUNB\" href=\"/f/mood/p/234135507\"><span>從根本解決「經痛」問題</span></a>, <a class=\"sc-1v1d5rx-3 kPUUNB\" href=\"/f/acg/p/234135518\"><span>忍者哈特利使用過的忍術</span></a>, <a class=\"sc-1v1d5rx-3 kPUUNB\" href=\"/f/girl/p/234135096\"><span>不會下廚遭挖苦？楊丞琳不會削蘋果錯了嗎？🍎</span></a>, <a class=\"sc-1v1d5rx-3 kPUUNB\" href=\"/f/relationship/p/234133539\"><span>#更 赫然發現自己長大了</span></a>, <a class=\"sc-1v1d5rx-3 kPUUNB\" href=\"/f/entertainer/p/234132826\"><span>見邱岳了！！！我真的要被孫沁岳暖哭😭♥</span></a>, <a class=\"sc-1v1d5rx-3 kPUUNB\" href=\"/f/entertainer/p/234133031\"><span>那些大哥大姐on Top的都給我站出來!</span></a>, <a class=\"sc-1v1d5rx-3 kPUUNB\" href=\"/f/dressup/p/234132836\"><span>想問金針菇的泳衣！</span></a>, <a class=\"sc-1v1d5rx-3 kPUUNB\" href=\"/f/entertainer/p/234133283\"><span>如果有藝人私下罵人娘砲 你會退粉嗎</span></a>, <a class=\"sc-1v1d5rx-3 kPUUNB\" href=\"/f/talk/p/234135328\"><span>落榜不哭的十個理由</span></a>, <a class=\"sc-1v1d5rx-3 kPUUNB\" href=\"/f/food/p/234133446\"><span>樺達小店員介紹😆</span></a>, <a class=\"sc-1v1d5rx-3 kPUUNB\" href=\"/f/food/p/234135581\"><span>不殘忍減肥餐分享</span></a>, <a class=\"sc-1v1d5rx-3 kPUUNB\" href=\"/f/relationship/p/234132881\"><span>我這輩子只愛過她，但我們卻只能在一起半年</span></a>, <a class=\"sc-1v1d5rx-3 kPUUNB\" href=\"/f/savemoney/p/234136101\"><span>#情報 動滋券買鞋 ABC-MART</span></a>, <a class=\"sc-1v1d5rx-3 kPUUNB\" href=\"/f/makeup/p/234135323\"><span>被面試HR稱讚的唇色！</span></a>, <a class=\"sc-1v1d5rx-3 kPUUNB\" href=\"/f/makeup/p/234136604\"><span>#妝容 夏日韓妞輕透妝容</span></a>, <a class=\"sc-1v1d5rx-3 kPUUNB\" href=\"/f/boutique/p/234133451\"><span>期待很久的Gucci 漁夫帽 今天它來了</span></a>, <a class=\"sc-1v1d5rx-3 kPUUNB\" href=\"/f/food/p/234133114\"><span>全家 江原道雪蟹蟹膏御飯糰</span></a>, <a class=\"sc-1v1d5rx-3 kPUUNB\" href=\"/f/freshman/p/234136307\"><span>大學生最新的流行用語「咩噗」你聽過沒～～</span></a>, <a class=\"sc-1v1d5rx-3 kPUUNB\" href=\"/f/relationship/p/234134140\"><span>女友吸食笑氣</span></a>, <a class=\"sc-1v1d5rx-3 kPUUNB\" href=\"/f/youtuber/p/234136977\"><span>九妹咪妃撞項鍊？</span></a>, <a class=\"sc-1v1d5rx-3 kPUUNB\" href=\"/f/pet/p/234135331\"><span>#松鼠 被姑姑養的可樂萌到翻</span></a>, <a class=\"sc-1v1d5rx-3 kPUUNB\" href=\"/f/entertainer/p/234134255\"><span>Kingdom 貌似辦不成啦～</span></a>]\n"
     ]
    }
   ],
   "source": [
    "tag_divs = soup.find_all(\"a\" , class_ = \"sc-1v1d5rx-3 kPUUNB\")\n",
    "print(tag_divs)"
   ]
  },
  {
   "cell_type": "markdown",
   "metadata": {},
   "source": [
    "### 另外，我們可以發現在 a 標籤下會有每一篇文章的網址，ex：href=\"/f/girl/p/234136773\""
   ]
  },
  {
   "cell_type": "markdown",
   "metadata": {},
   "source": [
    "### 由於每一篇文章的開頭都是一樣的，所以要把每一篇文章的網址印出來：\"https://www.dcard.tw\" + tag['href']"
   ]
  },
  {
   "cell_type": "code",
   "execution_count": 5,
   "metadata": {},
   "outputs": [
    {
     "name": "stdout",
     "output_type": "stream",
     "text": [
      "https://www.dcard.tw/f/girl/p/234136773\n",
      "https://www.dcard.tw/f/funny/p/234134701\n",
      "https://www.dcard.tw/f/entertainer/p/234135394\n",
      "https://www.dcard.tw/f/relationship/p/234133071\n",
      "https://www.dcard.tw/f/funny/p/234133238\n",
      "https://www.dcard.tw/f/trending/p/234135375\n",
      "https://www.dcard.tw/f/relationship/p/234133635\n",
      "https://www.dcard.tw/f/mood/p/234135961\n",
      "https://www.dcard.tw/f/mood/p/234135507\n",
      "https://www.dcard.tw/f/acg/p/234135518\n",
      "https://www.dcard.tw/f/girl/p/234135096\n",
      "https://www.dcard.tw/f/relationship/p/234133539\n",
      "https://www.dcard.tw/f/entertainer/p/234132826\n",
      "https://www.dcard.tw/f/entertainer/p/234133031\n",
      "https://www.dcard.tw/f/dressup/p/234132836\n",
      "https://www.dcard.tw/f/entertainer/p/234133283\n",
      "https://www.dcard.tw/f/talk/p/234135328\n",
      "https://www.dcard.tw/f/food/p/234133446\n",
      "https://www.dcard.tw/f/food/p/234135581\n",
      "https://www.dcard.tw/f/relationship/p/234132881\n",
      "https://www.dcard.tw/f/savemoney/p/234136101\n",
      "https://www.dcard.tw/f/makeup/p/234135323\n",
      "https://www.dcard.tw/f/makeup/p/234136604\n",
      "https://www.dcard.tw/f/boutique/p/234133451\n",
      "https://www.dcard.tw/f/food/p/234133114\n",
      "https://www.dcard.tw/f/freshman/p/234136307\n",
      "https://www.dcard.tw/f/relationship/p/234134140\n",
      "https://www.dcard.tw/f/youtuber/p/234136977\n",
      "https://www.dcard.tw/f/pet/p/234135331\n",
      "https://www.dcard.tw/f/entertainer/p/234134255\n"
     ]
    }
   ],
   "source": [
    "for tag in tag_divs:\n",
    "    print(\"https://www.dcard.tw\" + tag['href'])"
   ]
  },
  {
   "cell_type": "markdown",
   "metadata": {},
   "source": [
    "### 但是我們只想要標籤中的文字，再仔細觀察得知 標題文字 存在於 a 標籤下的 span 標籤"
   ]
  },
  {
   "cell_type": "markdown",
   "metadata": {},
   "source": [
    "### 因此先將所有的 span 標籤放進 tag_title，再使用 .text 印出文字"
   ]
  },
  {
   "cell_type": "code",
   "execution_count": 6,
   "metadata": {},
   "outputs": [
    {
     "name": "stdout",
     "output_type": "stream",
     "text": [
      "喜餅都訂了結果要退婚?\n",
      "撞臉徐佳瑩（更\n",
      "小煜結婚了😭\n",
      "男友拍照技術的進步\n",
      "真的不要再亂剪瀏海\n",
      "幹你娘三倍券\n",
      "十年男友教妳們怎麼訓練男友拍照\n",
      "關於女友三觀不正\n",
      "從根本解決「經痛」問題\n",
      "忍者哈特利使用過的忍術\n",
      "不會下廚遭挖苦？楊丞琳不會削蘋果錯了嗎？🍎\n",
      "#更 赫然發現自己長大了\n",
      "見邱岳了！！！我真的要被孫沁岳暖哭😭♥\n",
      "那些大哥大姐on Top的都給我站出來!\n",
      "想問金針菇的泳衣！\n",
      "如果有藝人私下罵人娘砲 你會退粉嗎\n",
      "落榜不哭的十個理由\n",
      "樺達小店員介紹😆\n",
      "不殘忍減肥餐分享\n",
      "我這輩子只愛過她，但我們卻只能在一起半年\n",
      "#情報 動滋券買鞋 ABC-MART\n",
      "被面試HR稱讚的唇色！\n",
      "#妝容 夏日韓妞輕透妝容\n",
      "期待很久的Gucci 漁夫帽 今天它來了\n",
      "全家 江原道雪蟹蟹膏御飯糰\n",
      "大學生最新的流行用語「咩噗」你聽過沒～～\n",
      "女友吸食笑氣\n",
      "九妹咪妃撞項鍊？\n",
      "#松鼠 被姑姑養的可樂萌到翻\n",
      "Kingdom 貌似辦不成啦～\n"
     ]
    }
   ],
   "source": [
    "for tag in tag_divs:\n",
    "    # print(tag)\n",
    "    if tag.find('span'): # 是否有<span>標籤\n",
    "        tag_title = tag.find(\"span\")\n",
    "        print(tag_title.text)"
   ]
  },
  {
   "cell_type": "markdown",
   "metadata": {},
   "source": [
    "-------"
   ]
  },
  {
   "cell_type": "markdown",
   "metadata": {},
   "source": [
    "# Step 2"
   ]
  },
  {
   "cell_type": "markdown",
   "metadata": {},
   "source": [
    "---"
   ]
  },
  {
   "cell_type": "markdown",
   "metadata": {},
   "source": [
    "<img src = \"imgs/subtitle.png\">"
   ]
  },
  {
   "cell_type": "markdown",
   "metadata": {},
   "source": [
    "### 可以看到每一篇文章的「板名」「學校」「時間」，皆在相同 span，class = sc-6oxm01-2 hiTIMq 之下"
   ]
  },
  {
   "cell_type": "markdown",
   "metadata": {},
   "source": [
    "### 將所有的文字內容 append 到一 list 中"
   ]
  },
  {
   "cell_type": "code",
   "execution_count": 7,
   "metadata": {},
   "outputs": [
    {
     "name": "stdout",
     "output_type": "stream",
     "text": [
      "['女孩', '匿名', '7月29日 19:49', '有趣', '台南應用科技大學 舞蹈系', '7月29日 12:38', '追星', '國立屏東大學', '7月29日 15:03', '感情', '匿名', '7月29日 01:01', '有趣', '原本的卡稱超過15個字', '7月29日 01:40', '時事', '挑食的胖子', '7月29日 15:00', '感情', '匿名', '7月29日 04:24', '心情', '匿名', '7月29日 16:59', '心情', '焱', '7月29日 15:27', '動漫', '世新大學', '7月29日 15:28', '女孩', '國立臺灣大學', '7月29日 14:01', '感情', '匿名', '7月29日 03:12', '追星', '我是軒(●´з`)♡', '7月29日 00:17', '追星', '銘傳大學', '7月29日 00:53', '穿搭', '國立臺東大學', '7月29日 00:18', '追星', '國立臺灣大學', '7月29日 01:51', '閒聊', '大坦誠', '7月29日 14:53', '美食', '黎明技術學院', '7月29日 02:33', '美食', '國立雲林科技大學', '7月29日 15:38', '感情', '匿名', '7月29日 00:24', '省錢', '國立臺灣大學', '7月29日 17:31', '美妝', '淡江大學', '7月29日 14:52', '美妝', '兩千', '7月29日 19:16', '精品', 'Lafar', '7月29日 02:35', '美食', '吃出一片天ʕ •ᴥ•ʔ', '7月29日 01:10', '新生季', '新生季小天使', '7月29日 18:16', '感情', '匿名', '7月29日 10:20', 'YouTuber', '國立中興大學', '7月29日 20:30', '寵物', '弘光科技大學', '7月29日 14:54', '追星', '國立聯合大學', '7月29日 10:52']\n"
     ]
    }
   ],
   "source": [
    "tag_span = soup.find_all(\"span\" , class_ = \"sc-6oxm01-2 hiTIMq\")\n",
    "allList = []\n",
    "\n",
    "for tag in tag_span:    \n",
    "    allList.append(tag.text)\n",
    "    \n",
    "print(allList)"
   ]
  },
  {
   "cell_type": "markdown",
   "metadata": {},
   "source": [
    "###  將「板名」「學校」「時間」分別印出來"
   ]
  },
  {
   "cell_type": "code",
   "execution_count": 8,
   "metadata": {
    "scrolled": true
   },
   "outputs": [
    {
     "name": "stdout",
     "output_type": "stream",
     "text": [
      "板名：女孩\n",
      "學校：匿名\n",
      "時間：7月29日 19:49\n",
      "板名：有趣\n",
      "學校：台南應用科技大學 舞蹈系\n",
      "時間：7月29日 12:38\n",
      "板名：追星\n",
      "學校：國立屏東大學\n",
      "時間：7月29日 15:03\n",
      "板名：感情\n",
      "學校：匿名\n",
      "時間：7月29日 01:01\n",
      "板名：有趣\n",
      "學校：原本的卡稱超過15個字\n",
      "時間：7月29日 01:40\n",
      "板名：時事\n",
      "學校：挑食的胖子\n",
      "時間：7月29日 15:00\n",
      "板名：感情\n",
      "學校：匿名\n",
      "時間：7月29日 04:24\n",
      "板名：心情\n",
      "學校：匿名\n",
      "時間：7月29日 16:59\n",
      "板名：心情\n",
      "學校：焱\n",
      "時間：7月29日 15:27\n",
      "板名：動漫\n",
      "學校：世新大學\n",
      "時間：7月29日 15:28\n",
      "板名：女孩\n",
      "學校：國立臺灣大學\n",
      "時間：7月29日 14:01\n",
      "板名：感情\n",
      "學校：匿名\n",
      "時間：7月29日 03:12\n",
      "板名：追星\n",
      "學校：我是軒(●´з`)♡\n",
      "時間：7月29日 00:17\n",
      "板名：追星\n",
      "學校：銘傳大學\n",
      "時間：7月29日 00:53\n",
      "板名：穿搭\n",
      "學校：國立臺東大學\n",
      "時間：7月29日 00:18\n",
      "板名：追星\n",
      "學校：國立臺灣大學\n",
      "時間：7月29日 01:51\n",
      "板名：閒聊\n",
      "學校：大坦誠\n",
      "時間：7月29日 14:53\n",
      "板名：美食\n",
      "學校：黎明技術學院\n",
      "時間：7月29日 02:33\n",
      "板名：美食\n",
      "學校：國立雲林科技大學\n",
      "時間：7月29日 15:38\n",
      "板名：感情\n",
      "學校：匿名\n",
      "時間：7月29日 00:24\n",
      "板名：省錢\n",
      "學校：國立臺灣大學\n",
      "時間：7月29日 17:31\n",
      "板名：美妝\n",
      "學校：淡江大學\n",
      "時間：7月29日 14:52\n",
      "板名：美妝\n",
      "學校：兩千\n",
      "時間：7月29日 19:16\n",
      "板名：精品\n",
      "學校：Lafar\n",
      "時間：7月29日 02:35\n",
      "板名：美食\n",
      "學校：吃出一片天ʕ •ᴥ•ʔ\n",
      "時間：7月29日 01:10\n",
      "板名：新生季\n",
      "學校：新生季小天使\n",
      "時間：7月29日 18:16\n",
      "板名：感情\n",
      "學校：匿名\n",
      "時間：7月29日 10:20\n",
      "板名：YouTuber\n",
      "學校：國立中興大學\n",
      "時間：7月29日 20:30\n",
      "板名：寵物\n",
      "學校：弘光科技大學\n",
      "時間：7月29日 14:54\n",
      "板名：追星\n",
      "學校：國立聯合大學\n",
      "時間：7月29日 10:52\n"
     ]
    }
   ],
   "source": [
    "i = 0\n",
    "j = 1\n",
    "k = 2\n",
    "\n",
    "while i < len(allList):\n",
    "    print(f\"板名：{allList[i]}\")\n",
    "    print(f\"學校：{allList[j]}\")\n",
    "    print(f\"時間：{allList[k]}\")\n",
    "    \n",
    "    i += 3\n",
    "    j += 3\n",
    "    k += 3"
   ]
  },
  {
   "cell_type": "markdown",
   "metadata": {},
   "source": [
    "# 將 Step 1 和 Step 2 合併"
   ]
  },
  {
   "cell_type": "code",
   "execution_count": 9,
   "metadata": {
    "scrolled": false
   },
   "outputs": [
    {
     "name": "stdout",
     "output_type": "stream",
     "text": [
      "標題：喜餅都訂了結果要退婚?\n",
      "網址：https://www.dcard.tw/f/girl/p/234136773\n",
      "板名：女孩\n",
      "學校：匿名\n",
      "時間：7月29日 19:49\n",
      "===---===---===---===---===\n",
      "標題：撞臉徐佳瑩（更\n",
      "網址：https://www.dcard.tw/f/funny/p/234134701\n",
      "板名：有趣\n",
      "學校：台南應用科技大學 舞蹈系\n",
      "時間：7月29日 12:38\n",
      "===---===---===---===---===\n",
      "標題：小煜結婚了😭\n",
      "網址：https://www.dcard.tw/f/entertainer/p/234135394\n",
      "板名：追星\n",
      "學校：國立屏東大學\n",
      "時間：7月29日 15:03\n",
      "===---===---===---===---===\n",
      "標題：男友拍照技術的進步\n",
      "網址：https://www.dcard.tw/f/relationship/p/234133071\n",
      "板名：感情\n",
      "學校：匿名\n",
      "時間：7月29日 01:01\n",
      "===---===---===---===---===\n",
      "標題：真的不要再亂剪瀏海\n",
      "網址：https://www.dcard.tw/f/funny/p/234133238\n",
      "板名：有趣\n",
      "學校：原本的卡稱超過15個字\n",
      "時間：7月29日 01:40\n",
      "===---===---===---===---===\n",
      "標題：幹你娘三倍券\n",
      "網址：https://www.dcard.tw/f/trending/p/234135375\n",
      "板名：時事\n",
      "學校：挑食的胖子\n",
      "時間：7月29日 15:00\n",
      "===---===---===---===---===\n",
      "標題：十年男友教妳們怎麼訓練男友拍照\n",
      "網址：https://www.dcard.tw/f/relationship/p/234133635\n",
      "板名：感情\n",
      "學校：匿名\n",
      "時間：7月29日 04:24\n",
      "===---===---===---===---===\n",
      "標題：關於女友三觀不正\n",
      "網址：https://www.dcard.tw/f/mood/p/234135961\n",
      "板名：心情\n",
      "學校：匿名\n",
      "時間：7月29日 16:59\n",
      "===---===---===---===---===\n",
      "標題：從根本解決「經痛」問題\n",
      "網址：https://www.dcard.tw/f/mood/p/234135507\n",
      "板名：心情\n",
      "學校：焱\n",
      "時間：7月29日 15:27\n",
      "===---===---===---===---===\n",
      "標題：忍者哈特利使用過的忍術\n",
      "網址：https://www.dcard.tw/f/acg/p/234135518\n",
      "板名：動漫\n",
      "學校：世新大學\n",
      "時間：7月29日 15:28\n",
      "===---===---===---===---===\n",
      "標題：不會下廚遭挖苦？楊丞琳不會削蘋果錯了嗎？🍎\n",
      "網址：https://www.dcard.tw/f/girl/p/234135096\n",
      "板名：女孩\n",
      "學校：國立臺灣大學\n",
      "時間：7月29日 14:01\n",
      "===---===---===---===---===\n",
      "標題：#更 赫然發現自己長大了\n",
      "網址：https://www.dcard.tw/f/relationship/p/234133539\n",
      "板名：感情\n",
      "學校：匿名\n",
      "時間：7月29日 03:12\n",
      "===---===---===---===---===\n",
      "標題：見邱岳了！！！我真的要被孫沁岳暖哭😭♥\n",
      "網址：https://www.dcard.tw/f/entertainer/p/234132826\n",
      "板名：追星\n",
      "學校：我是軒(●´з`)♡\n",
      "時間：7月29日 00:17\n",
      "===---===---===---===---===\n",
      "標題：那些大哥大姐on Top的都給我站出來!\n",
      "網址：https://www.dcard.tw/f/entertainer/p/234133031\n",
      "板名：追星\n",
      "學校：銘傳大學\n",
      "時間：7月29日 00:53\n",
      "===---===---===---===---===\n",
      "標題：想問金針菇的泳衣！\n",
      "網址：https://www.dcard.tw/f/dressup/p/234132836\n",
      "板名：穿搭\n",
      "學校：國立臺東大學\n",
      "時間：7月29日 00:18\n",
      "===---===---===---===---===\n",
      "標題：如果有藝人私下罵人娘砲 你會退粉嗎\n",
      "網址：https://www.dcard.tw/f/entertainer/p/234133283\n",
      "板名：追星\n",
      "學校：國立臺灣大學\n",
      "時間：7月29日 01:51\n",
      "===---===---===---===---===\n",
      "標題：落榜不哭的十個理由\n",
      "網址：https://www.dcard.tw/f/talk/p/234135328\n",
      "板名：閒聊\n",
      "學校：大坦誠\n",
      "時間：7月29日 14:53\n",
      "===---===---===---===---===\n",
      "標題：樺達小店員介紹😆\n",
      "網址：https://www.dcard.tw/f/food/p/234133446\n",
      "板名：美食\n",
      "學校：黎明技術學院\n",
      "時間：7月29日 02:33\n",
      "===---===---===---===---===\n",
      "標題：不殘忍減肥餐分享\n",
      "網址：https://www.dcard.tw/f/food/p/234135581\n",
      "板名：美食\n",
      "學校：國立雲林科技大學\n",
      "時間：7月29日 15:38\n",
      "===---===---===---===---===\n",
      "標題：我這輩子只愛過她，但我們卻只能在一起半年\n",
      "網址：https://www.dcard.tw/f/relationship/p/234132881\n",
      "板名：感情\n",
      "學校：匿名\n",
      "時間：7月29日 00:24\n",
      "===---===---===---===---===\n",
      "標題：#情報 動滋券買鞋 ABC-MART\n",
      "網址：https://www.dcard.tw/f/savemoney/p/234136101\n",
      "板名：省錢\n",
      "學校：國立臺灣大學\n",
      "時間：7月29日 17:31\n",
      "===---===---===---===---===\n",
      "標題：被面試HR稱讚的唇色！\n",
      "網址：https://www.dcard.tw/f/makeup/p/234135323\n",
      "板名：美妝\n",
      "學校：淡江大學\n",
      "時間：7月29日 14:52\n",
      "===---===---===---===---===\n",
      "標題：#妝容 夏日韓妞輕透妝容\n",
      "網址：https://www.dcard.tw/f/makeup/p/234136604\n",
      "板名：美妝\n",
      "學校：兩千\n",
      "時間：7月29日 19:16\n",
      "===---===---===---===---===\n",
      "標題：期待很久的Gucci 漁夫帽 今天它來了\n",
      "網址：https://www.dcard.tw/f/boutique/p/234133451\n",
      "板名：精品\n",
      "學校：Lafar\n",
      "時間：7月29日 02:35\n",
      "===---===---===---===---===\n",
      "標題：全家 江原道雪蟹蟹膏御飯糰\n",
      "網址：https://www.dcard.tw/f/food/p/234133114\n",
      "板名：美食\n",
      "學校：吃出一片天ʕ •ᴥ•ʔ\n",
      "時間：7月29日 01:10\n",
      "===---===---===---===---===\n",
      "標題：大學生最新的流行用語「咩噗」你聽過沒～～\n",
      "網址：https://www.dcard.tw/f/freshman/p/234136307\n",
      "板名：新生季\n",
      "學校：新生季小天使\n",
      "時間：7月29日 18:16\n",
      "===---===---===---===---===\n",
      "標題：女友吸食笑氣\n",
      "網址：https://www.dcard.tw/f/relationship/p/234134140\n",
      "板名：感情\n",
      "學校：匿名\n",
      "時間：7月29日 10:20\n",
      "===---===---===---===---===\n",
      "標題：九妹咪妃撞項鍊？\n",
      "網址：https://www.dcard.tw/f/youtuber/p/234136977\n",
      "板名：YouTuber\n",
      "學校：國立中興大學\n",
      "時間：7月29日 20:30\n",
      "===---===---===---===---===\n",
      "標題：#松鼠 被姑姑養的可樂萌到翻\n",
      "網址：https://www.dcard.tw/f/pet/p/234135331\n",
      "板名：寵物\n",
      "學校：弘光科技大學\n",
      "時間：7月29日 14:54\n",
      "===---===---===---===---===\n",
      "標題：Kingdom 貌似辦不成啦～\n",
      "網址：https://www.dcard.tw/f/entertainer/p/234134255\n",
      "板名：追星\n",
      "學校：國立聯合大學\n",
      "時間：7月29日 10:52\n",
      "===---===---===---===---===\n"
     ]
    }
   ],
   "source": [
    "url = \"https://www.dcard.tw/f\"\n",
    "headers = {'user-agent': 'Mozilla/5.0 (Windows NT 10.0; Win64; x64)'\n",
    "            'AppleWebKit/537.36 (KHTML, like Gecko)'\n",
    "            'Chrome/63.0.3239.132 Safari/537.36'}\n",
    "r = requests.get(url , headers = headers , cookies = {\"over18\": \"1\"})\n",
    "\n",
    "if r.status_code == requests.codes.ok:\n",
    "    r.encoding = \"utf8\"\n",
    "    soup = BeautifulSoup(r.text , \"lxml\")\n",
    "\n",
    "\n",
    "    i = 0\n",
    "    j = 1\n",
    "    k = 2\n",
    "\n",
    "    tag_divs = soup.find_all(\"a\" , class_ = \"sc-1v1d5rx-3 kPUUNB\")\n",
    "    tag_span = soup.find_all(\"span\" , class_ = \"sc-6oxm01-2 hiTIMq\")\n",
    "    allList = []\n",
    "\n",
    "    for tag in tag_span:    \n",
    "        allList.append(tag.text)\n",
    "\n",
    "    for tag in tag_divs:\n",
    "        if tag.find(\"span\"):\n",
    "            tag_title = tag.find(\"span\")\n",
    "            print(f\"標題：{tag_title.text}\")\n",
    "            print(f\"網址：{'https://www.dcard.tw' + tag['href']}\")\n",
    "            while i < len(allList):\n",
    "                print(f\"板名：{allList[i]}\")\n",
    "                print(f\"學校：{allList[j]}\")\n",
    "                print(f\"時間：{allList[k]}\")\n",
    "                i += 3\n",
    "                j += 3\n",
    "                k += 3\n",
    "                break\n",
    "            print(\"===---===---===---===---===\")\n",
    "    time.sleep(2)\n",
    "else:\n",
    "    print(\"HTTP請求錯誤...\" + url)"
   ]
  },
  {
   "cell_type": "code",
   "execution_count": null,
   "metadata": {},
   "outputs": [],
   "source": []
  }
 ],
 "metadata": {
  "kernelspec": {
   "display_name": "Python 3",
   "language": "python",
   "name": "python3"
  },
  "language_info": {
   "codemirror_mode": {
    "name": "ipython",
    "version": 3
   },
   "file_extension": ".py",
   "mimetype": "text/x-python",
   "name": "python",
   "nbconvert_exporter": "python",
   "pygments_lexer": "ipython3",
   "version": "3.7.7"
  }
 },
 "nbformat": 4,
 "nbformat_minor": 4
}
