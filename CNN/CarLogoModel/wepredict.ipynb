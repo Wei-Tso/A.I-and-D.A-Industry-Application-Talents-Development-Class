{
 "cells": [
  {
   "cell_type": "code",
   "execution_count": null,
   "metadata": {},
   "outputs": [],
   "source": [
    "import cv2\n",
    "import pandas as pd\n",
    "from keras.models import Sequential  \n",
    "from keras.layers import Dense,Dropout,Flatten,Conv2D,MaxPooling2D"
   ]
  },
  {
   "cell_type": "code",
   "execution_count": null,
   "metadata": {},
   "outputs": [],
   "source": [
    "img_size = 64"
   ]
  },
  {
   "cell_type": "code",
   "execution_count": null,
   "metadata": {},
   "outputs": [],
   "source": [
    "def build_model():\n",
    "    model = Sequential()\n",
    "    model.add(Conv2D(filters = 32 , kernel_size = (3 , 3) , input_shape = (64 , 64 , 3) , activation = 'relu' , padding = 'same'))\n",
    "    model.add(Conv2D(filters = 32 , kernel_size = (3 , 3) , activation = 'relu' , padding = 'same'))\n",
    "    model.add(MaxPooling2D(pool_size = (2 , 2)))\n",
    "    model.add(Dropout(0.2))\n",
    "    model.add(Conv2D(filters = 64 , kernel_size = (3 , 3) , activation = 'relu' , padding = 'same'))\n",
    "    model.add(Conv2D(filters = 64 , kernel_size = (3 , 3) , activation = 'relu' , padding = 'same'))\n",
    "    model.add(MaxPooling2D(pool_size = (2 , 2)))\n",
    "    model.add(Dropout(0.2))\n",
    "\n",
    "    model.add(Flatten())\n",
    "\n",
    "    model.add(Dense(128 , activation = 'relu'))\n",
    "    model.add(Dropout(0.5))\n",
    "    model.add(Dense(64 , activation = 'relu'))\n",
    "    model.add(Dropout(0.5))\n",
    "    model.add(Dense(12 , activation = 'softmax'))\n",
    "\n",
    "    model.compile(loss = 'categorical_crossentropy' , optimizer = 'adam' , metrics = ['acc'])\n",
    "    \n",
    "    return model"
   ]
  },
  {
   "cell_type": "code",
   "execution_count": null,
   "metadata": {},
   "outputs": [],
   "source": [
    "model_car = build_model()\n",
    "model_car.load_weights(\"./car_train.h5\")"
   ]
  },
  {
   "cell_type": "code",
   "execution_count": null,
   "metadata": {},
   "outputs": [],
   "source": [
    "img = cv2.imread(\"./predictPIC/test9_1.jpg\" , cv2.IMREAD_COLOR)\n",
    "img = cv2.resize(img , (img_size , img_size))\n",
    "x_test = img.reshape(1,img_size , img_size,3).astype('float32')\n",
    "x_test = x_test / 255"
   ]
  },
  {
   "cell_type": "code",
   "execution_count": null,
   "metadata": {},
   "outputs": [],
   "source": [
    "prediction = model_car.predict_classes(x_test).ravel()[0]\n",
    "print(prediction)"
   ]
  }
 ],
 "metadata": {
  "kernelspec": {
   "display_name": "Python 3",
   "language": "python",
   "name": "python3"
  },
  "language_info": {
   "codemirror_mode": {
    "name": "ipython",
    "version": 3
   },
   "file_extension": ".py",
   "mimetype": "text/x-python",
   "name": "python",
   "nbconvert_exporter": "python",
   "pygments_lexer": "ipython3",
   "version": "3.7.6"
  }
 },
 "nbformat": 4,
 "nbformat_minor": 4
}
